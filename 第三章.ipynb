{
 "cells": [
  {
   "cell_type": "code",
   "execution_count": 1,
   "id": "278cccac",
   "metadata": {},
   "outputs": [
    {
     "name": "stdout",
     "output_type": "stream",
     "text": [
      "['treck', 'cannodale', 'redline', 'specialized']\n"
     ]
    }
   ],
   "source": [
    "bicycles=['treck', 'cannodale', 'redline','specialized']\n",
    "print(bicycles)"
   ]
  },
  {
   "cell_type": "code",
   "execution_count": 2,
   "id": "286e67ed",
   "metadata": {},
   "outputs": [
    {
     "name": "stdout",
     "output_type": "stream",
     "text": [
      "treck\n"
     ]
    }
   ],
   "source": [
    "bicycles=['treck', 'cannodale', 'redline','specialized']\n",
    "print(bicycles[0])"
   ]
  },
  {
   "cell_type": "code",
   "execution_count": 3,
   "id": "9eac770d",
   "metadata": {},
   "outputs": [
    {
     "name": "stdout",
     "output_type": "stream",
     "text": [
      "Treck\n"
     ]
    }
   ],
   "source": [
    "bicycles=['treck', 'cannodale', 'redline','specialized']\n",
    "print(bicycles[0].title())"
   ]
  },
  {
   "cell_type": "code",
   "execution_count": 4,
   "id": "0dc52beb",
   "metadata": {},
   "outputs": [
    {
     "name": "stdout",
     "output_type": "stream",
     "text": [
      "specialized\n"
     ]
    }
   ],
   "source": [
    "bicycles=['treck', 'cannodale', 'redline','specialized']\n",
    "print(bicycles[-1])"
   ]
  },
  {
   "cell_type": "code",
   "execution_count": 6,
   "id": "e664faf2",
   "metadata": {},
   "outputs": [
    {
     "name": "stdout",
     "output_type": "stream",
     "text": [
      "my favorite bicycle was a Treck.\n"
     ]
    }
   ],
   "source": [
    "bicycles=['treck', 'cannodale', 'redline','specialized']\n",
    "message=f\"my favorite bicycle was a {bicycles[0].title()}.\"\n",
    "print(message)"
   ]
  },
  {
   "cell_type": "code",
   "execution_count": 7,
   "id": "ef185dc4",
   "metadata": {},
   "outputs": [
    {
     "name": "stdout",
     "output_type": "stream",
     "text": [
      "['honda', 'yanaha', 'suzuki']\n",
      "['ducati', 'yanaha', 'suzuki']\n"
     ]
    }
   ],
   "source": [
    "motorcycles=['honda','yanaha','suzuki']\n",
    "print(motorcycles)\n",
    "\n",
    "motorcycles[0]='ducati'\n",
    "print(motorcycles)"
   ]
  },
  {
   "cell_type": "markdown",
   "id": "ba8e0045",
   "metadata": {},
   "source": [
    "## 3.2.2在列表中添加元素"
   ]
  },
  {
   "cell_type": "code",
   "execution_count": 8,
   "id": "784d6db8",
   "metadata": {},
   "outputs": [
    {
     "name": "stdout",
     "output_type": "stream",
     "text": [
      "['honda', 'yanaha', 'suzuki']\n",
      "['honda', 'yanaha', 'suzuki', 'ducati']\n"
     ]
    }
   ],
   "source": [
    "motorcycles=['honda','yanaha','suzuki']\n",
    "print(motorcycles)\n",
    "\n",
    "motorcycles.append('ducati')\n",
    "print(motorcycles)"
   ]
  },
  {
   "cell_type": "code",
   "execution_count": 9,
   "id": "0d147f2a",
   "metadata": {},
   "outputs": [
    {
     "name": "stdout",
     "output_type": "stream",
     "text": [
      "['honda', 'yanaha', 'suzuki']\n",
      "['ducati', 'honda', 'yanaha', 'suzuki']\n"
     ]
    }
   ],
   "source": [
    "motorcycles=['honda','yanaha','suzuki']\n",
    "print(motorcycles)\n",
    "\n",
    "motorcycles.insert(0,'ducati')\n",
    "print(motorcycles)"
   ]
  },
  {
   "cell_type": "markdown",
   "id": "12d73aaa",
   "metadata": {},
   "source": [
    "## 3.2.2在列表中删除元素"
   ]
  },
  {
   "cell_type": "code",
   "execution_count": 10,
   "id": "65530b73",
   "metadata": {},
   "outputs": [
    {
     "name": "stdout",
     "output_type": "stream",
     "text": [
      "['honda', 'yanaha', 'suzuki']\n",
      "['yanaha', 'suzuki']\n"
     ]
    }
   ],
   "source": [
    "motorcycles=['honda','yanaha','suzuki']\n",
    "print(motorcycles)\n",
    "\n",
    "del motorcycles[0]\n",
    "print(motorcycles)"
   ]
  },
  {
   "cell_type": "code",
   "execution_count": 11,
   "id": "3952aeb0",
   "metadata": {},
   "outputs": [
    {
     "name": "stdout",
     "output_type": "stream",
     "text": [
      "['honda', 'yanaha', 'suzuki']\n",
      "['honda', 'suzuki']\n"
     ]
    }
   ],
   "source": [
    "motorcycles=['honda','yanaha','suzuki']\n",
    "print(motorcycles)\n",
    "\n",
    "del motorcycles[1]\n",
    "print(motorcycles)"
   ]
  },
  {
   "cell_type": "code",
   "execution_count": 13,
   "id": "fe4035aa",
   "metadata": {},
   "outputs": [
    {
     "name": "stdout",
     "output_type": "stream",
     "text": [
      "['honda', 'yanaha', 'suzuki']\n",
      "['honda', 'yanaha']\n",
      "suzuki\n"
     ]
    }
   ],
   "source": [
    "motorcycles=['honda','yanaha','suzuki']\n",
    "print(motorcycles)\n",
    "\n",
    "popped_motorcycles=motorcycles.pop()\n",
    "print(motorcycles)\n",
    "print(popped_motorcycles)"
   ]
  },
  {
   "cell_type": "code",
   "execution_count": 15,
   "id": "29892671",
   "metadata": {},
   "outputs": [
    {
     "name": "stdout",
     "output_type": "stream",
     "text": [
      "the last motorcycle i owned was a Suzuki.\n"
     ]
    }
   ],
   "source": [
    "motorcycles=['honda','yanaha','suzuki']\n",
    "last_owned=motorcycles.pop()\n",
    "print(f\"the last motorcycle i owned was a {last_owned.title()}.\")"
   ]
  },
  {
   "cell_type": "code",
   "execution_count": 16,
   "id": "d0bf3611",
   "metadata": {},
   "outputs": [
    {
     "name": "stdout",
     "output_type": "stream",
     "text": [
      "the first motorcycle i owned was a Honda.\n"
     ]
    }
   ],
   "source": [
    "motorcycles=['honda','yanaha','suzuki']\n",
    "first_owned=motorcycles.pop(0)\n",
    "print(f\"the first motorcycle i owned was a {first_owned.title()}.\")"
   ]
  },
  {
   "cell_type": "code",
   "execution_count": 17,
   "id": "a8808f94",
   "metadata": {},
   "outputs": [
    {
     "name": "stdout",
     "output_type": "stream",
     "text": [
      "['honda', 'yanaha', 'suzuki']\n",
      "['yanaha', 'suzuki']\n"
     ]
    }
   ],
   "source": [
    "motorcycles=['honda','yanaha','suzuki']\n",
    "print(motorcycles)\n",
    "motorcycles.remove('honda')\n",
    "print(motorcycles)"
   ]
  },
  {
   "cell_type": "code",
   "execution_count": 19,
   "id": "695e4fd3",
   "metadata": {},
   "outputs": [
    {
     "name": "stdout",
     "output_type": "stream",
     "text": [
      "['honda', 'yanaha', 'suzuki']\n",
      "\n",
      " A  Honda is too expensive for me.\n"
     ]
    }
   ],
   "source": [
    "motorcycles=['honda','yanaha','suzuki']\n",
    "print(motorcycles)\n",
    "too_expensive='honda'\n",
    "motorcycles.remove(too_expensive)\n",
    "print(f\"\\n A  {too_expensive.title()} is too expensive for me.\")"
   ]
  },
  {
   "cell_type": "markdown",
   "id": "b2968dd9",
   "metadata": {},
   "source": [
    "##  使用sort（）方法对列表进行永久排序"
   ]
  },
  {
   "cell_type": "code",
   "execution_count": 20,
   "id": "88c742a7",
   "metadata": {},
   "outputs": [
    {
     "name": "stdout",
     "output_type": "stream",
     "text": [
      "['audi', 'bmw', 'subaru', 'toyato']\n"
     ]
    }
   ],
   "source": [
    "cars=['bmw','audi','toyato','subaru']\n",
    "cars.sort()\n",
    "print(cars)"
   ]
  },
  {
   "cell_type": "code",
   "execution_count": 22,
   "id": "8f65afdb",
   "metadata": {},
   "outputs": [
    {
     "name": "stdout",
     "output_type": "stream",
     "text": [
      "['toyato', 'subaru', 'bmw', 'audi']\n"
     ]
    }
   ],
   "source": [
    "cars=['bmw','audi','toyato','subaru']\n",
    "cars.sort(reverse=True)\n",
    "print(cars)"
   ]
  },
  {
   "cell_type": "code",
   "execution_count": 25,
   "id": "d15f0385",
   "metadata": {},
   "outputs": [
    {
     "name": "stdout",
     "output_type": "stream",
     "text": [
      "here is the original list:\n",
      "['bmw', 'audi', 'toyato', 'subaru']\n",
      "\n",
      "here is the sorted list:\n",
      "['audi', 'bmw', 'subaru', 'toyato']\n"
     ]
    }
   ],
   "source": [
    "cars=['bmw','audi','toyato','subaru']\n",
    "print(\"here is the original list:\")\n",
    "print(cars)\n",
    "print(\"\\nhere is the sorted list:\")\n",
    "print(sorted(cars))"
   ]
  },
  {
   "cell_type": "code",
   "execution_count": 26,
   "id": "11d87093",
   "metadata": {},
   "outputs": [
    {
     "name": "stdout",
     "output_type": "stream",
     "text": [
      "['bmw', 'audi', 'toyato', 'subaru']\n",
      "['subaru', 'toyato', 'audi', 'bmw']\n"
     ]
    }
   ],
   "source": [
    "cars=['bmw','audi','toyato','subaru']\n",
    "print(cars)\n",
    "cars.reverse()\n",
    "print(cars)"
   ]
  },
  {
   "cell_type": "code",
   "execution_count": 27,
   "id": "bc7d70f8",
   "metadata": {},
   "outputs": [
    {
     "data": {
      "text/plain": [
       "4"
      ]
     },
     "execution_count": 27,
     "metadata": {},
     "output_type": "execute_result"
    }
   ],
   "source": [
    "cars=['bmw','audi','toyato','subaru']\n",
    "len(cars)"
   ]
  },
  {
   "cell_type": "code",
   "execution_count": null,
   "id": "eca97c4f",
   "metadata": {},
   "outputs": [],
   "source": []
  }
 ],
 "metadata": {
  "kernelspec": {
   "display_name": "Python 3 (ipykernel)",
   "language": "python",
   "name": "python3"
  },
  "language_info": {
   "codemirror_mode": {
    "name": "ipython",
    "version": 3
   },
   "file_extension": ".py",
   "mimetype": "text/x-python",
   "name": "python",
   "nbconvert_exporter": "python",
   "pygments_lexer": "ipython3",
   "version": "3.11.5"
  }
 },
 "nbformat": 4,
 "nbformat_minor": 5
}
