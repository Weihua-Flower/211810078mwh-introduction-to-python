{
 "cells": [
  {
   "cell_type": "markdown",
   "id": "1cb430ba",
   "metadata": {},
   "source": [
    "# 4.1 遍历整个列表"
   ]
  },
  {
   "cell_type": "code",
   "execution_count": 1,
   "id": "c1f5b0e0",
   "metadata": {},
   "outputs": [
    {
     "name": "stdout",
     "output_type": "stream",
     "text": [
      "alice\n",
      "david\n",
      "carolina\n"
     ]
    }
   ],
   "source": [
    "magicians=['alice', 'david','carolina']\n",
    "for magician in magicians:\n",
    "    print(magician)"
   ]
  },
  {
   "cell_type": "code",
   "execution_count": 2,
   "id": "44ddbc71",
   "metadata": {},
   "outputs": [
    {
     "name": "stdout",
     "output_type": "stream",
     "text": [
      "Alice,that was a great trick!\n",
      "David,that was a great trick!\n",
      "Carolina,that was a great trick!\n"
     ]
    }
   ],
   "source": [
    "magicians=['alice', 'david','carolina']\n",
    "for magician in magicians:\n",
    "    print(f\"{magician.title()},that was a great trick!\")"
   ]
  },
  {
   "cell_type": "code",
   "execution_count": 3,
   "id": "22ffdda8",
   "metadata": {},
   "outputs": [
    {
     "name": "stdout",
     "output_type": "stream",
     "text": [
      "Alice,that was a great trick!\n",
      "I can't wait to see your next trick,Alice,\n",
      "\n",
      "David,that was a great trick!\n",
      "I can't wait to see your next trick,David,\n",
      "\n",
      "Carolina,that was a great trick!\n",
      "I can't wait to see your next trick,Carolina,\n",
      "\n"
     ]
    }
   ],
   "source": [
    "magicians=['alice', 'david','carolina']\n",
    "for magician in magicians:\n",
    "    print(f\"{magician.title()},that was a great trick!\")\n",
    "    print(f\"I can't wait to see your next trick,{magician.title()},\\n\")"
   ]
  },
  {
   "cell_type": "code",
   "execution_count": 4,
   "id": "bb1c7e4d",
   "metadata": {},
   "outputs": [
    {
     "name": "stdout",
     "output_type": "stream",
     "text": [
      "Alice,that was a great trick!\n",
      "I can't wait to see your next trick,Alice,\n",
      "\n",
      "David,that was a great trick!\n",
      "I can't wait to see your next trick,David,\n",
      "\n",
      "Carolina,that was a great trick!\n",
      "I can't wait to see your next trick,Carolina,\n",
      "\n",
      "Thank you,everyone.\n"
     ]
    }
   ],
   "source": [
    "magicians=['alice', 'david','carolina']\n",
    "for magician in magicians:\n",
    "    print(f\"{magician.title()},that was a great trick!\")\n",
    "    print(f\"I can't wait to see your next trick,{magician.title()},\\n\")\n",
    "print(\"Thank you,everyone.\")"
   ]
  },
  {
   "cell_type": "markdown",
   "id": "6f0969ce",
   "metadata": {},
   "source": [
    "# 练习"
   ]
  },
  {
   "cell_type": "code",
   "execution_count": 6,
   "id": "19f37299",
   "metadata": {},
   "outputs": [
    {
     "name": "stdout",
     "output_type": "stream",
     "text": [
      "Italian Thin Crust Pizza\n",
      "American Deep Dish Pizza\n",
      "Cheesy Baked Rice Pizza\n"
     ]
    }
   ],
   "source": [
    "pizzas=['Italian Thin Crust Pizza', 'American Deep Dish Pizza','Cheesy Baked Rice Pizza']\n",
    "for pizza in pizzas:\n",
    "    print(pizza)"
   ]
  },
  {
   "cell_type": "code",
   "execution_count": 8,
   "id": "985d5b34",
   "metadata": {},
   "outputs": [
    {
     "name": "stdout",
     "output_type": "stream",
     "text": [
      "I really like Italian Thin Crust Pizza pizza.\n",
      "I really like American Deep Dish Pizza pizza.\n",
      "I really like Cheesy Baked Rice Pizza pizza.\n"
     ]
    }
   ],
   "source": [
    "pizzas = ['Italian Thin Crust Pizza', 'American Deep Dish Pizza', 'Cheesy Baked Rice Pizza']\n",
    "for pizza in pizzas:\n",
    "    print(f'I really like {pizza.title()} pizza.')"
   ]
  },
  {
   "cell_type": "markdown",
   "id": "b0db8890",
   "metadata": {},
   "source": [
    "# 4.3 创建数值列表"
   ]
  },
  {
   "cell_type": "code",
   "execution_count": 10,
   "id": "e1ac1dff",
   "metadata": {},
   "outputs": [
    {
     "name": "stdout",
     "output_type": "stream",
     "text": [
      "1\n",
      "2\n",
      "3\n",
      "4\n"
     ]
    }
   ],
   "source": [
    "for value in range(1,5):\n",
    "    print(value)"
   ]
  },
  {
   "cell_type": "code",
   "execution_count": 12,
   "id": "f542bb37",
   "metadata": {},
   "outputs": [
    {
     "name": "stdout",
     "output_type": "stream",
     "text": [
      "[1, 2, 3, 4, 5]\n"
     ]
    }
   ],
   "source": [
    "numbers=list(range(1,6))\n",
    "print(numbers)"
   ]
  },
  {
   "cell_type": "code",
   "execution_count": 13,
   "id": "5c73700b",
   "metadata": {},
   "outputs": [
    {
     "name": "stdout",
     "output_type": "stream",
     "text": [
      "[2, 4, 6, 8, 10]\n"
     ]
    }
   ],
   "source": [
    "eveb_numbers=list(range(2,11,2))\n",
    "print(eveb_numbers)"
   ]
  },
  {
   "cell_type": "code",
   "execution_count": 16,
   "id": "bdf2e10d",
   "metadata": {},
   "outputs": [
    {
     "name": "stdout",
     "output_type": "stream",
     "text": [
      "[1, 4, 9, 16, 25, 36, 49, 64, 81, 100]\n"
     ]
    }
   ],
   "source": [
    "squares = []\n",
    "for value in range(1, 11):\n",
    "    square = value**2\n",
    "    squares.append(square)\n",
    "\n",
    "print(squares)"
   ]
  },
  {
   "cell_type": "code",
   "execution_count": 18,
   "id": "77326cb0",
   "metadata": {},
   "outputs": [
    {
     "name": "stdout",
     "output_type": "stream",
     "text": [
      "[1, 4, 9, 16, 25, 36, 49, 64, 81, 100]\n"
     ]
    }
   ],
   "source": [
    "squares = [value**2 for value in range(1, 11)]\n",
    "print(squares)"
   ]
  },
  {
   "cell_type": "code",
   "execution_count": 19,
   "id": "630a65d8",
   "metadata": {},
   "outputs": [
    {
     "name": "stdout",
     "output_type": "stream",
     "text": [
      "1\n",
      "2\n",
      "3\n",
      "4\n",
      "5\n",
      "6\n",
      "7\n",
      "8\n",
      "9\n",
      "10\n",
      "11\n",
      "12\n",
      "13\n",
      "14\n",
      "15\n",
      "16\n",
      "17\n",
      "18\n",
      "19\n",
      "20\n"
     ]
    }
   ],
   "source": [
    "for value in range(1,21):\n",
    "    print(value)"
   ]
  },
  {
   "cell_type": "code",
   "execution_count": 20,
   "id": "4e0f6d7b",
   "metadata": {},
   "outputs": [
    {
     "name": "stdout",
     "output_type": "stream",
     "text": [
      "1\n",
      "3\n",
      "5\n",
      "7\n",
      "9\n",
      "11\n",
      "13\n",
      "15\n",
      "17\n",
      "19\n"
     ]
    }
   ],
   "source": [
    "for value in range(1,20,2):\n",
    "    print(value)"
   ]
  },
  {
   "cell_type": "code",
   "execution_count": 21,
   "id": "be6b28fa",
   "metadata": {},
   "outputs": [
    {
     "name": "stdout",
     "output_type": "stream",
     "text": [
      "[1, 8, 27, 64, 125, 216, 343, 512, 729, 1000]\n"
     ]
    }
   ],
   "source": [
    "squares = [value**3 for value in range(1, 11)]\n",
    "print(squares)"
   ]
  },
  {
   "cell_type": "markdown",
   "id": "463d0cbf",
   "metadata": {},
   "source": [
    "# 4.4 使用列表的一部分"
   ]
  },
  {
   "cell_type": "code",
   "execution_count": 23,
   "id": "4d7b47ea",
   "metadata": {},
   "outputs": [
    {
     "name": "stdout",
     "output_type": "stream",
     "text": [
      "['alice', 'david']\n"
     ]
    }
   ],
   "source": [
    "players=['alice', 'david','carolina']\n",
    "print(players[0:2])"
   ]
  },
  {
   "cell_type": "code",
   "execution_count": 24,
   "id": "17b85ef1",
   "metadata": {},
   "outputs": [
    {
     "name": "stdout",
     "output_type": "stream",
     "text": [
      "Here are the first two players on my team:\n",
      "Alice\n",
      "David\n"
     ]
    }
   ],
   "source": [
    "players=['alice', 'david','carolina']\n",
    "print(\"Here are the first two players on my team:\")\n",
    "for player in players[:2]:\n",
    "    print(player.title())"
   ]
  },
  {
   "cell_type": "code",
   "execution_count": 28,
   "id": "27de2386",
   "metadata": {},
   "outputs": [
    {
     "name": "stdout",
     "output_type": "stream",
     "text": [
      "My favorite foods are:\n",
      "['Italian Thin Crust Pizza', 'American Deep Dish Pizza', 'Cheesy Baked Rice Pizza']\n",
      "\n",
      "My friends' favorite foods are:\n",
      "['Italian Thin Crust Pizza', 'American Deep Dish Pizza', 'Cheesy Baked Rice Pizza']\n"
     ]
    }
   ],
   "source": [
    "my_foods=['Italian Thin Crust Pizza', 'American Deep Dish Pizza','Cheesy Baked Rice Pizza']\n",
    "friend_foods=my_foods[:]\n",
    "print(\"My favorite foods are:\")\n",
    "print(my_foods)\n",
    "print(\"\\nMy friends' favorite foods are:\")\n",
    "print(friend_foods)"
   ]
  },
  {
   "cell_type": "code",
   "execution_count": 29,
   "id": "b3917617",
   "metadata": {},
   "outputs": [
    {
     "name": "stdout",
     "output_type": "stream",
     "text": [
      "My favorite foods are:\n",
      "['Italian Thin Crust Pizza', 'American Deep Dish Pizza', 'Cheesy Baked Rice Pizza', 'cake']\n",
      "\n",
      "My friends' favorite foods are:\n",
      "['Italian Thin Crust Pizza', 'American Deep Dish Pizza', 'Cheesy Baked Rice Pizza', 'candy']\n"
     ]
    }
   ],
   "source": [
    "my_foods=['Italian Thin Crust Pizza', 'American Deep Dish Pizza','Cheesy Baked Rice Pizza']\n",
    "friend_foods=my_foods[:]\n",
    "my_foods.append(\"cake\")\n",
    "friend_foods.append(\"candy\")\n",
    "print(\"My favorite foods are:\")\n",
    "print(my_foods)\n",
    "print(\"\\nMy friends' favorite foods are:\")\n",
    "print(friend_foods)"
   ]
  },
  {
   "cell_type": "markdown",
   "id": "8bb90dcc",
   "metadata": {},
   "source": [
    "# 元组 "
   ]
  },
  {
   "cell_type": "code",
   "execution_count": 30,
   "id": "f1ef5bc7",
   "metadata": {},
   "outputs": [
    {
     "name": "stdout",
     "output_type": "stream",
     "text": [
      "200\n",
      "50\n"
     ]
    }
   ],
   "source": [
    "dimensions=(200,50)\n",
    "print(dimensions[0])\n",
    "print(dimensions[1])\n"
   ]
  },
  {
   "cell_type": "code",
   "execution_count": 32,
   "id": "e8294436",
   "metadata": {},
   "outputs": [
    {
     "name": "stdout",
     "output_type": "stream",
     "text": [
      "200\n",
      "50\n"
     ]
    }
   ],
   "source": [
    "dimensions=(200,50)\n",
    "for dimension in dimensions:\n",
    "    print(dimension)"
   ]
  },
  {
   "cell_type": "code",
   "execution_count": 33,
   "id": "da4e2d03",
   "metadata": {},
   "outputs": [
    {
     "name": "stdout",
     "output_type": "stream",
     "text": [
      "original dimensions:\n",
      "200\n",
      "50\n",
      "\n",
      "Modified dimensions:\n",
      "400\n",
      "100\n"
     ]
    }
   ],
   "source": [
    "dimensions=(200,50)\n",
    "print(\"original dimensions:\")\n",
    "for dimension in dimensions:\n",
    "    print(dimension)\n",
    "    \n",
    "dimensions=(400,100)\n",
    "print(\"\\nModified dimensions:\")\n",
    "for dimension in dimensions:\n",
    "    print(dimension)"
   ]
  },
  {
   "cell_type": "markdown",
   "id": "6d2d2db2",
   "metadata": {},
   "source": [
    "# 4.6 设置代码格式"
   ]
  },
  {
   "cell_type": "code",
   "execution_count": null,
   "id": "3fea042f",
   "metadata": {},
   "outputs": [],
   "source": []
  }
 ],
 "metadata": {
  "kernelspec": {
   "display_name": "Python 3 (ipykernel)",
   "language": "python",
   "name": "python3"
  },
  "language_info": {
   "codemirror_mode": {
    "name": "ipython",
    "version": 3
   },
   "file_extension": ".py",
   "mimetype": "text/x-python",
   "name": "python",
   "nbconvert_exporter": "python",
   "pygments_lexer": "ipython3",
   "version": "3.11.5"
  }
 },
 "nbformat": 4,
 "nbformat_minor": 5
}
