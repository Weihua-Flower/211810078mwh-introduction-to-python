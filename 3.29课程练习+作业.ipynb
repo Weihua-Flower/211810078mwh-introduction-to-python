{
 "cells": [
  {
   "cell_type": "markdown",
   "id": "36f06f41",
   "metadata": {},
   "source": [
    "# 第五章（作业在下面）"
   ]
  },
  {
   "cell_type": "code",
   "execution_count": 1,
   "id": "878b9e32",
   "metadata": {},
   "outputs": [
    {
     "name": "stdout",
     "output_type": "stream",
     "text": [
      "Audi\n",
      "BMW\n",
      "Subaru\n",
      "Toyota\n"
     ]
    }
   ],
   "source": [
    "cars=['audi','bmw','subaru','toyota']\n",
    "for car in cars:\n",
    "    if car=='bmw':\n",
    "        print(car.upper())\n",
    "    else:\n",
    "        print(car.title())"
   ]
  },
  {
   "cell_type": "code",
   "execution_count": 2,
   "id": "aa49683d",
   "metadata": {},
   "outputs": [
    {
     "data": {
      "text/plain": [
       "True"
      ]
     },
     "execution_count": 2,
     "metadata": {},
     "output_type": "execute_result"
    }
   ],
   "source": [
    "car='bmw'\n",
    "car=='bmw'"
   ]
  },
  {
   "cell_type": "code",
   "execution_count": 3,
   "id": "c484e9ba",
   "metadata": {},
   "outputs": [
    {
     "data": {
      "text/plain": [
       "False"
      ]
     },
     "execution_count": 3,
     "metadata": {},
     "output_type": "execute_result"
    }
   ],
   "source": [
    "car='audi'\n",
    "car=='bmw'"
   ]
  },
  {
   "cell_type": "code",
   "execution_count": 5,
   "id": "eff6ac04",
   "metadata": {},
   "outputs": [
    {
     "name": "stdout",
     "output_type": "stream",
     "text": [
      "hold the anchovies!\n"
     ]
    }
   ],
   "source": [
    "requested_topping='mushrooms'\n",
    "if requested_topping!='anchovies':\n",
    "    print(\"hold the anchovies!\")\n"
   ]
  },
  {
   "cell_type": "code",
   "execution_count": 6,
   "id": "080240b6",
   "metadata": {},
   "outputs": [
    {
     "data": {
      "text/plain": [
       "True"
      ]
     },
     "execution_count": 6,
     "metadata": {},
     "output_type": "execute_result"
    }
   ],
   "source": [
    "age=18\n",
    "age==18"
   ]
  },
  {
   "cell_type": "code",
   "execution_count": 7,
   "id": "b9e9bece",
   "metadata": {},
   "outputs": [
    {
     "data": {
      "text/plain": [
       "True"
      ]
     },
     "execution_count": 7,
     "metadata": {},
     "output_type": "execute_result"
    }
   ],
   "source": [
    "age=19\n",
    "age<21"
   ]
  },
  {
   "cell_type": "code",
   "execution_count": 8,
   "id": "66b9d355",
   "metadata": {},
   "outputs": [
    {
     "data": {
      "text/plain": [
       "True"
      ]
     },
     "execution_count": 8,
     "metadata": {},
     "output_type": "execute_result"
    }
   ],
   "source": [
    "19<21"
   ]
  },
  {
   "cell_type": "code",
   "execution_count": 9,
   "id": "96f50b5a",
   "metadata": {},
   "outputs": [
    {
     "data": {
      "text/plain": [
       "False"
      ]
     },
     "execution_count": 9,
     "metadata": {},
     "output_type": "execute_result"
    }
   ],
   "source": [
    "age_0=22\n",
    "age_1=18\n",
    "age_0>=21 and age_1>=21"
   ]
  },
  {
   "cell_type": "code",
   "execution_count": 10,
   "id": "442731e7",
   "metadata": {},
   "outputs": [
    {
     "data": {
      "text/plain": [
       "True"
      ]
     },
     "execution_count": 10,
     "metadata": {},
     "output_type": "execute_result"
    }
   ],
   "source": [
    "age_1=22\n",
    "age_0>=21 and age_1>=21"
   ]
  },
  {
   "cell_type": "code",
   "execution_count": 11,
   "id": "40af765f",
   "metadata": {},
   "outputs": [
    {
     "data": {
      "text/plain": [
       "True"
      ]
     },
     "execution_count": 11,
     "metadata": {},
     "output_type": "execute_result"
    }
   ],
   "source": [
    "age_0=22\n",
    "age_1=18\n",
    "age_0>=21 or age_1>=21"
   ]
  },
  {
   "cell_type": "code",
   "execution_count": 12,
   "id": "d3453551",
   "metadata": {},
   "outputs": [
    {
     "data": {
      "text/plain": [
       "True"
      ]
     },
     "execution_count": 12,
     "metadata": {},
     "output_type": "execute_result"
    }
   ],
   "source": [
    "requested_toppings=['mushrooms','onions','pineapple']\n",
    "'mushrooms' in requested_toppings"
   ]
  },
  {
   "cell_type": "code",
   "execution_count": 13,
   "id": "4b884580",
   "metadata": {},
   "outputs": [
    {
     "data": {
      "text/plain": [
       "False"
      ]
     },
     "execution_count": 13,
     "metadata": {},
     "output_type": "execute_result"
    }
   ],
   "source": [
    "requested_toppings=['mushrooms','onions','pineapple']\n",
    "'pepperoni' in requested_toppings"
   ]
  },
  {
   "cell_type": "code",
   "execution_count": 18,
   "id": "706796b7",
   "metadata": {},
   "outputs": [
    {
     "data": {
      "text/plain": [
       "True"
      ]
     },
     "execution_count": 18,
     "metadata": {},
     "output_type": "execute_result"
    }
   ],
   "source": [
    "requested_toppings=['mushrooms','onions','pineapple']\n",
    "'pepperoni' not in requested_toppings"
   ]
  },
  {
   "cell_type": "code",
   "execution_count": 21,
   "id": "68c3f992",
   "metadata": {},
   "outputs": [
    {
     "name": "stdout",
     "output_type": "stream",
     "text": [
      "Pepperoni is so unique!\n"
     ]
    }
   ],
   "source": [
    "requested_toppings=['mushrooms','onions','pineapple']\n",
    "topping='pepperoni'\n",
    "if topping not in requested_toppings:\n",
    "    print(f\"{topping.title()} is so unique!\")"
   ]
  },
  {
   "cell_type": "code",
   "execution_count": 23,
   "id": "a2779284",
   "metadata": {
    "scrolled": true
   },
   "outputs": [
    {
     "data": {
      "text/plain": [
       "False"
      ]
     },
     "execution_count": 23,
     "metadata": {},
     "output_type": "execute_result"
    }
   ],
   "source": [
    "game_paused=True\n",
    "not game_paused"
   ]
  },
  {
   "cell_type": "code",
   "execution_count": 25,
   "id": "7743b90b",
   "metadata": {},
   "outputs": [
    {
     "name": "stdout",
     "output_type": "stream",
     "text": [
      "you are old enough to vote!\n"
     ]
    }
   ],
   "source": [
    "age = 19\n",
    "if age >= 18:\n",
    "    print('you are old enough to vote!')"
   ]
  },
  {
   "cell_type": "code",
   "execution_count": 26,
   "id": "38c32b2d",
   "metadata": {},
   "outputs": [
    {
     "name": "stdout",
     "output_type": "stream",
     "text": [
      "you are old enough to vote!\n",
      "Have you registered to vote yet?\n"
     ]
    }
   ],
   "source": [
    "age = 19\n",
    "if age >= 18:\n",
    "    print('you are old enough to vote!')\n",
    "    print('Have you registered to vote yet?')"
   ]
  },
  {
   "cell_type": "code",
   "execution_count": 27,
   "id": "a8e538ca",
   "metadata": {},
   "outputs": [
    {
     "name": "stdout",
     "output_type": "stream",
     "text": [
      "[3, 6, 9, 12, 15, 18, 21, 24, 27, 30]\n"
     ]
    }
   ],
   "source": [
    "divisible_by_3 = [num for num in range(1, 31) if num % 3 == 0]\n",
    "print(divisible_by_3)"
   ]
  },
  {
   "cell_type": "code",
   "execution_count": 31,
   "id": "40ee0f4b",
   "metadata": {},
   "outputs": [
    {
     "name": "stdout",
     "output_type": "stream",
     "text": [
      "[3, 6, 9, 12, 15, 18, 21, 24, 27, 30]\n"
     ]
    }
   ],
   "source": [
    "result = []\n",
    "for i in range(2, 31):\n",
    "    if i % 3 == 0:\n",
    "        result.append(i)\n",
    "\n",
    "print(result)"
   ]
  },
  {
   "cell_type": "markdown",
   "id": "d3c64ef2",
   "metadata": {},
   "source": [
    "# 课后作业练习"
   ]
  },
  {
   "cell_type": "code",
   "execution_count": 32,
   "id": "5e7427da",
   "metadata": {},
   "outputs": [
    {
     "name": "stdout",
     "output_type": "stream",
     "text": [
      "玩家获得了5分\n"
     ]
    }
   ],
   "source": [
    "# 外星人颜色变量赋值\n",
    "alien_color = 'green'\n",
    "\n",
    "# 测试外星人是否是绿色\n",
    "if alien_color == 'green':\n",
    "    print(\"玩家获得了5分\")"
   ]
  },
  {
   "cell_type": "code",
   "execution_count": 33,
   "id": "33dd2747",
   "metadata": {},
   "outputs": [],
   "source": [
    "# 外星人颜色变量赋值\n",
    "alien_color = 'red'\n",
    "\n",
    "# 测试外星人是否是绿色\n",
    "if alien_color == 'green':\n",
    "    print(\"玩家获得了5分\")"
   ]
  },
  {
   "cell_type": "code",
   "execution_count": 34,
   "id": "be993abd",
   "metadata": {},
   "outputs": [
    {
     "name": "stdout",
     "output_type": "stream",
     "text": [
      "玩家获得了5分\n"
     ]
    }
   ],
   "source": [
    "# 外星人颜色变量赋值\n",
    "alien_color = 'green'\n",
    "\n",
    "# 判断外星人颜色并给予不同的分数\n",
    "if alien_color == 'green':\n",
    "    print(\"玩家获得了5分\")\n",
    "else:\n",
    "    print(\"玩家获得了10分\")"
   ]
  },
  {
   "cell_type": "code",
   "execution_count": 35,
   "id": "386aef53",
   "metadata": {},
   "outputs": [
    {
     "name": "stdout",
     "output_type": "stream",
     "text": [
      "玩家获得了10分\n"
     ]
    }
   ],
   "source": [
    "# 外星人颜色变量赋值\n",
    "alien_color = 'red'\n",
    "\n",
    "# 判断外星人颜色并给予不同的分数\n",
    "if alien_color == 'green':\n",
    "    print(\"玩家获得了5分\")\n",
    "else:\n",
    "    print(\"玩家获得了10分\")"
   ]
  },
  {
   "cell_type": "code",
   "execution_count": 36,
   "id": "aa731628",
   "metadata": {},
   "outputs": [
    {
     "name": "stdout",
     "output_type": "stream",
     "text": [
      "玩家获得了5分\n"
     ]
    }
   ],
   "source": [
    "# 外星人颜色变量赋值\n",
    "alien_color = 'green'\n",
    "\n",
    "# 判断外星人颜色并给予不同的分数\n",
    "if alien_color == 'green':\n",
    "    print(\"玩家获得了5分\")\n",
    "elif alien_color == 'yellow':\n",
    "    print(\"玩家获得了10分\")\n",
    "else:\n",
    "    print(\"玩家获得了15分\")"
   ]
  },
  {
   "cell_type": "code",
   "execution_count": 37,
   "id": "4fd8b941",
   "metadata": {},
   "outputs": [
    {
     "name": "stdout",
     "output_type": "stream",
     "text": [
      "玩家获得了10分\n"
     ]
    }
   ],
   "source": [
    "# 外星人颜色变量赋值\n",
    "alien_color = 'yellow'\n",
    "\n",
    "# 判断外星人颜色并给予不同的分数\n",
    "if alien_color == 'green':\n",
    "    print(\"玩家获得了5分\")\n",
    "elif alien_color == 'yellow':\n",
    "    print(\"玩家获得了10分\")\n",
    "else:\n",
    "    print(\"玩家获得了15分\")"
   ]
  },
  {
   "cell_type": "code",
   "execution_count": 38,
   "id": "ce0be916",
   "metadata": {},
   "outputs": [
    {
     "name": "stdout",
     "output_type": "stream",
     "text": [
      "玩家获得了15分\n"
     ]
    }
   ],
   "source": [
    "# 外星人颜色变量赋值\n",
    "alien_color = 'red'\n",
    "\n",
    "# 判断外星人颜色并给予不同的分数\n",
    "if alien_color == 'green':\n",
    "    print(\"玩家获得了5分\")\n",
    "elif alien_color == 'yellow':\n",
    "    print(\"玩家获得了10分\")\n",
    "else:\n",
    "    print(\"玩家获得了15分\")"
   ]
  },
  {
   "cell_type": "code",
   "execution_count": 39,
   "id": "1314e6e3",
   "metadata": {},
   "outputs": [
    {
     "name": "stdout",
     "output_type": "stream",
     "text": [
      "这个人是中青年人\n"
     ]
    }
   ],
   "source": [
    "age = 20\n",
    "\n",
    "if age < 2:\n",
    "    print(\"这个人是婴儿\")\n",
    "elif age >= 2 and age < 4:\n",
    "    print(\"这个人是幼儿\")\n",
    "elif age >= 4 and age < 13:\n",
    "    print(\"这个人是儿童\")\n",
    "elif age >= 13 and age < 18:\n",
    "    print(\"这个人是少年\")\n",
    "elif age >= 18 and age < 65:\n",
    "    print(\"这个人是中青年人\")\n",
    "else:\n",
    "    print(\"这个人是老年人\")"
   ]
  },
  {
   "cell_type": "code",
   "execution_count": 41,
   "id": "d88a387a",
   "metadata": {},
   "outputs": [
    {
     "name": "stdout",
     "output_type": "stream",
     "text": [
      "You really like apples!\n",
      "You really like bananas!\n",
      "You really like oranges!\n"
     ]
    }
   ],
   "source": [
    "# 创建包含喜欢水果的列表\n",
    "favorite_fruits = ['apple', 'banana', 'orange']\n",
    "\n",
    "# 检查特定水果是否在列表中\n",
    "if 'apple' in favorite_fruits:\n",
    "    print(\"You really like apples!\")\n",
    "if 'banana' in favorite_fruits:\n",
    "    print(\"You really like bananas!\")\n",
    "if 'orange' in favorite_fruits:\n",
    "    print(\"You really like oranges!\")\n",
    "if 'strawberry' in favorite_fruits:\n",
    "    print(\"You really like strawberry!\")\n",
    "if 'watermelon' in favorite_fruits:\n",
    "    print(\"You really like watermelons!\")"
   ]
  },
  {
   "cell_type": "code",
   "execution_count": null,
   "id": "c46d492d",
   "metadata": {},
   "outputs": [],
   "source": []
  }
 ],
 "metadata": {
  "kernelspec": {
   "display_name": "Python 3 (ipykernel)",
   "language": "python",
   "name": "python3"
  },
  "language_info": {
   "codemirror_mode": {
    "name": "ipython",
    "version": 3
   },
   "file_extension": ".py",
   "mimetype": "text/x-python",
   "name": "python",
   "nbconvert_exporter": "python",
   "pygments_lexer": "ipython3",
   "version": "3.11.5"
  }
 },
 "nbformat": 4,
 "nbformat_minor": 5
}
