{
 "cells": [
  {
   "cell_type": "markdown",
   "id": "15b17ed8",
   "metadata": {},
   "source": [
    "# 第9章 类"
   ]
  },
  {
   "cell_type": "markdown",
   "id": "3c893db2",
   "metadata": {},
   "source": [
    "# 9.1 创建和使用类"
   ]
  },
  {
   "cell_type": "markdown",
   "id": "03cc9d83",
   "metadata": {},
   "source": [
    "# 9.1.1 创建Dog类"
   ]
  },
  {
   "cell_type": "code",
   "execution_count": 3,
   "id": "a6faa4fe",
   "metadata": {},
   "outputs": [],
   "source": [
    "class dog:\n",
    "    \"\"\"一次模拟小狗的简单尝试\"\"\"\n",
    "    def _init_(self, name, age):\n",
    "        \"\"\"初始化属性 name 和 age\"\"\"\n",
    "        self.name = name\n",
    "        self.age = age\n",
    "        \n",
    "    def sit(self):\n",
    "        \"\"\"模拟小狗收到命令时坐下\"\"\"\n",
    "        print(f\"{self.name} is now sitting.\")\n",
    "        \n",
    "    def roll_over(self):\n",
    "        \"\"\"模拟小狗收到命令时打滚\"\"\"\n",
    "        print(f\"{self.name} rolled over!\")\n",
    "        \n",
    "#_init_()特殊方法，每当根据dog类创建新实例时，python都会自动运行它\n",
    "#两个_是一种约定，避免与默认方法和普通方法名称冲突\n",
    "#包含三个形参：self, name, age (self 必须放在其他形参前面，因为当调用这个方法来创建dog实例的时候，将自动传入实参self)\n",
    "#可以通过实例访问的变量称为属性，  self.name = name 获取与形参name相关联的值，并将其赋给变量name，然后该变量被关联到当前创建的实例。\n"
   ]
  },
  {
   "cell_type": "markdown",
   "id": "947de37e",
   "metadata": {},
   "source": [
    "# 9.1.2 根据类创建实例"
   ]
  },
  {
   "cell_type": "code",
   "execution_count": 7,
   "id": "40caf95e",
   "metadata": {},
   "outputs": [
    {
     "name": "stdout",
     "output_type": "stream",
     "text": [
      "My dog's name is Buddy.\n",
      "My dog is 6 years old.\n"
     ]
    }
   ],
   "source": [
    "class Dog:\n",
    "    def __init__(self, name, age):\n",
    "        self.name = name\n",
    "        self.age = age\n",
    "\n",
    "my_dog = Dog('Buddy', 6)\n",
    "\n",
    "print(f\"My dog's name is {my_dog.name}.\")\n",
    "print(f\"My dog is {my_dog.age} years old.\")"
   ]
  },
  {
   "cell_type": "markdown",
   "id": "bac488f3",
   "metadata": {},
   "source": [
    "# 01 访问属性"
   ]
  },
  {
   "cell_type": "code",
   "execution_count": 9,
   "id": "99c5f3f4",
   "metadata": {},
   "outputs": [
    {
     "data": {
      "text/plain": [
       "'Buddy'"
      ]
     },
     "execution_count": 9,
     "metadata": {},
     "output_type": "execute_result"
    }
   ],
   "source": [
    "my_dog.name\n",
    "#使用.访问实例属性\n"
   ]
  },
  {
   "cell_type": "markdown",
   "id": "2cc9257e",
   "metadata": {},
   "source": [
    "# 02 调用方法"
   ]
  },
  {
   "cell_type": "code",
   "execution_count": 12,
   "id": "e1710ce5",
   "metadata": {},
   "outputs": [
    {
     "name": "stdout",
     "output_type": "stream",
     "text": [
      "willie is now sitting.\n",
      "willie rolled over!\n"
     ]
    }
   ],
   "source": [
    "class Dog:\n",
    "    def __init__(self, name, age):\n",
    "        self.name = name\n",
    "        self.age = age\n",
    "\n",
    "    def sit(self):\n",
    "        print(f\"{self.name} is now sitting.\")\n",
    "\n",
    "    def roll_over(self):\n",
    "        print(f\"{self.name} rolled over!\")\n",
    "\n",
    "my_dog = Dog('willie', 6)\n",
    "my_dog.sit()        \n",
    "my_dog.roll_over()  "
   ]
  },
  {
   "cell_type": "markdown",
   "id": "85d86d0a",
   "metadata": {},
   "source": [
    "# 03 创建多个实例"
   ]
  },
  {
   "cell_type": "code",
   "execution_count": 13,
   "id": "04fa6dc8",
   "metadata": {},
   "outputs": [
    {
     "name": "stdout",
     "output_type": "stream",
     "text": [
      "My dog's name is willie.\n",
      "My dog is 6 years old.\n",
      "willie is now sitting.\n",
      "willie rolled over!\n",
      "Your dog's name is willie.\n",
      "Your dog is 6 years old.\n",
      "lucy is now sitting.\n",
      "lucy rolled over!\n"
     ]
    }
   ],
   "source": [
    "class Dog:\n",
    "    def __init__(self, name, age):\n",
    "        self.name = name\n",
    "        self.age = age\n",
    "\n",
    "    def sit(self):\n",
    "        print(f\"{self.name} is now sitting.\")\n",
    "\n",
    "    def roll_over(self):\n",
    "        print(f\"{self.name} rolled over!\")\n",
    "\n",
    "my_dog = Dog('willie', 6)\n",
    "your_dog = Dog('lucy',3)\n",
    "\n",
    "print(f\"My dog's name is {my_dog.name}.\")\n",
    "print(f\"My dog is {my_dog.age} years old.\")\n",
    "my_dog.sit()        \n",
    "my_dog.roll_over() \n",
    "\n",
    "print(f\"Your dog's name is {my_dog.name}.\")\n",
    "print(f\"Your dog is {my_dog.age} years old.\")\n",
    "your_dog.sit()        \n",
    "your_dog.roll_over()  "
   ]
  },
  {
   "cell_type": "markdown",
   "id": "aa4d1da5",
   "metadata": {},
   "source": [
    "# 动手试一试"
   ]
  },
  {
   "cell_type": "code",
   "execution_count": 16,
   "id": "fce25fb3",
   "metadata": {},
   "outputs": [
    {
     "name": "stdout",
     "output_type": "stream",
     "text": [
      "The name:meimei;The type:steak\n",
      "Meimei  Steak\n",
      "The restaurant is opening.\n"
     ]
    }
   ],
   "source": [
    "#餐馆\n",
    "class Restaurant:\n",
    "    \"\"\"模拟餐馆\"\"\"\n",
    "    def __init__(self,restaurant_name,cuisine_type):\n",
    "        \"\"\"初始化描述餐馆的属性\"\"\"\n",
    "        self.restaurant_name=restaurant_name\n",
    "        self.cuisine_type=cuisine_type\n",
    "\n",
    "    def describe_restaurant(self):\n",
    "        \"\"\"打印前述信息\"\"\"\n",
    "        info=f\"{self.restaurant_name}  {self.cuisine_type}\"\n",
    "        return info.title()\n",
    "\n",
    "    def open_restaurant(self):\n",
    "        \"\"\"指出餐馆在营业\"\"\"\n",
    "        print(\"The restaurant is opening.\")\n",
    "\n",
    "restaurant=Restaurant('meimei','steak')\n",
    "print(f\"The name:{restaurant.restaurant_name};The type:{restaurant.cuisine_type}\")\n",
    "print(restaurant.describe_restaurant())\n",
    "restaurant.open_restaurant()"
   ]
  },
  {
   "cell_type": "code",
   "execution_count": 17,
   "id": "05d9df45",
   "metadata": {},
   "outputs": [
    {
     "name": "stdout",
     "output_type": "stream",
     "text": [
      "Meimei  Steak\n",
      "Lele  Pizza\n",
      "Xiao  Noodle\n"
     ]
    }
   ],
   "source": [
    "#三个餐馆\n",
    "restaurant_1=Restaurant('meimei','steak')\n",
    "print(restaurant_1.describe_restaurant())\n",
    "\n",
    "restaurant_2=Restaurant('lele','pizza')\n",
    "print(restaurant_2.describe_restaurant())\n",
    "\n",
    "restaurant_3=Restaurant('xiao','noodle')\n",
    "print(restaurant_3.describe_restaurant())"
   ]
  },
  {
   "cell_type": "code",
   "execution_count": 19,
   "id": "e1c8f57d",
   "metadata": {},
   "outputs": [
    {
     "name": "stdout",
     "output_type": "stream",
     "text": [
      "Iii Aaa Female 21\n",
      "Hello, Iii Aaa!Have a nice day!\n",
      "Yyy Xxx Female 28\n",
      "Hello, Yyy Xxx!Have a nice day!\n",
      "Ooo Ppp Male 40\n",
      "Hello, Ooo Ppp!Have a nice day!\n"
     ]
    }
   ],
   "source": [
    "class User:\n",
    "    \"\"\"模拟用户信息\"\"\"\n",
    "    def __init__(self,first_name,last_name,gender,age):\n",
    "        \"\"\"初始化描述用户信息\"\"\"\n",
    "        self.first_name=first_name\n",
    "        self.last_name=last_name\n",
    "        self.gender=gender\n",
    "        self.age=age\n",
    "\n",
    "    def describe_user(self):\n",
    "        \"\"\"打印用户信息摘要\"\"\"\n",
    "        info=f\"{self.first_name} {self.last_name} {self.gender} {self.age}\"\n",
    "        return info.title()\n",
    "\n",
    "    def greet_user(self):\n",
    "        \"\"\"发出个性化问候\"\"\"\n",
    "        print(f\"Hello, {self.first_name.title()} {self.last_name.title()}!Have a nice day!\")\n",
    "\n",
    "user1=User('iii','aaa','female','21')\n",
    "print(user1.describe_user())\n",
    "user1.greet_user()\n",
    "\n",
    "user2=User('yyy','xxx','female','28')\n",
    "print(user2.describe_user())\n",
    "user2.greet_user()\n",
    "\n",
    "user3=User('ooo','ppp','male','40')\n",
    "print(user3.describe_user())\n",
    "user3.greet_user()\n"
   ]
  },
  {
   "cell_type": "markdown",
   "id": "ce879fe2",
   "metadata": {},
   "source": [
    "# 9.2 使用类和实例"
   ]
  },
  {
   "cell_type": "markdown",
   "id": "243f799b",
   "metadata": {},
   "source": [
    "# 9.2.1 car类"
   ]
  },
  {
   "cell_type": "code",
   "execution_count": 2,
   "id": "91b61517",
   "metadata": {},
   "outputs": [
    {
     "name": "stdout",
     "output_type": "stream",
     "text": [
      "2024 Audi A4\n"
     ]
    }
   ],
   "source": [
    "class Car:\n",
    "    \"\"\"模拟汽车尝试\"\"\"\n",
    "    def __init__(self, make, model, year):\n",
    "        \"\"\"初始化描述汽车属性\"\"\"\n",
    "        self.make = make\n",
    "        self.model = model\n",
    "        self.year = year\n",
    "\n",
    "    def get_descriptive_name(self):\n",
    "        \"\"\"返回规范格式的描述性信息\"\"\"\n",
    "        long_name = f\"{self.year} {self.make} {self.model}\"\n",
    "        return long_name.title()\n",
    "\n",
    "my_new_car = Car('audi', 'a4', 2024)\n",
    "print(my_new_car.get_descriptive_name())\n"
   ]
  },
  {
   "cell_type": "markdown",
   "id": "e7fcc28c",
   "metadata": {},
   "source": [
    "# 9.2.2 给属性指定默认值"
   ]
  },
  {
   "cell_type": "code",
   "execution_count": 7,
   "id": "217d6a71",
   "metadata": {},
   "outputs": [
    {
     "name": "stdout",
     "output_type": "stream",
     "text": [
      "2024 Audi A4\n",
      "This car has 0 miles on it.\n"
     ]
    }
   ],
   "source": [
    "class Car:\n",
    "    \"\"\"模拟汽车尝试\"\"\"\n",
    "    def __init__(self, make, model, year):\n",
    "        \"\"\"初始化描述汽车属性\"\"\"\n",
    "        self.make = make\n",
    "        self.model = model\n",
    "        self.year = year\n",
    "        self.odometer_reading = 0\n",
    "\n",
    "    def get_descriptive_name(self):\n",
    "        \"\"\"返回规范格式的描述性信息\"\"\"\n",
    "        long_name = f\"{self.year} {self.make} {self.model}\"\n",
    "        return long_name.title()\n",
    "\n",
    "    def read_odometer(self):\n",
    "        \"\"\"打印一条指出汽车行驶里程的信息\"\"\"\n",
    "        print(f\"This car has {self.odometer_reading} miles on it.\")\n",
    "\n",
    "my_new_car = Car('audi', 'a4', 2024)\n",
    "print(my_new_car.get_descriptive_name())\n",
    "my_new_car.read_odometer()\n"
   ]
  },
  {
   "cell_type": "markdown",
   "id": "d866bc99",
   "metadata": {},
   "source": [
    "# 9.2.3 修改属性的值"
   ]
  },
  {
   "cell_type": "markdown",
   "id": "77db9b88",
   "metadata": {},
   "source": [
    "# 01 直接修改属性的值"
   ]
  },
  {
   "cell_type": "code",
   "execution_count": 8,
   "id": "cf16dbfe",
   "metadata": {},
   "outputs": [
    {
     "name": "stdout",
     "output_type": "stream",
     "text": [
      "2024 Audi A4\n",
      "This car has 23 miles on it.\n"
     ]
    }
   ],
   "source": [
    "class Car:\n",
    "    \"\"\"模拟汽车尝试\"\"\"\n",
    "    def __init__(self, make, model, year):\n",
    "        \"\"\"初始化描述汽车属性\"\"\"\n",
    "        self.make = make\n",
    "        self.model = model\n",
    "        self.year = year\n",
    "        self.odometer_reading = 0\n",
    "\n",
    "    def get_descriptive_name(self):\n",
    "        \"\"\"返回规范格式的描述性信息\"\"\"\n",
    "        long_name = f\"{self.year} {self.make} {self.model}\"\n",
    "        return long_name.title()\n",
    "\n",
    "    def read_odometer(self):\n",
    "        \"\"\"打印一条指出汽车行驶里程的信息\"\"\"\n",
    "        print(f\"This car has {self.odometer_reading} miles on it.\")\n",
    "\n",
    "my_new_car = Car('audi', 'a4', 2024)\n",
    "print(my_new_car.get_descriptive_name())\n",
    "\n",
    "my_new_car.odometer_reading = 23\n",
    "my_new_car.read_odometer()"
   ]
  },
  {
   "cell_type": "markdown",
   "id": "10564091",
   "metadata": {},
   "source": [
    "# 02 通过方法修改属性"
   ]
  },
  {
   "cell_type": "code",
   "execution_count": 11,
   "id": "fcfa13ab",
   "metadata": {},
   "outputs": [
    {
     "name": "stdout",
     "output_type": "stream",
     "text": [
      "2024 Audi A4\n",
      "This car has 23 miles on it.\n"
     ]
    }
   ],
   "source": [
    "class Car:\n",
    "    \"\"\"模拟汽车尝试\"\"\"\n",
    "    def __init__(self, make, model, year):\n",
    "        \"\"\"初始化描述汽车属性\"\"\"\n",
    "        self.make = make\n",
    "        self.model = model\n",
    "        self.year = year\n",
    "        self.odometer_reading = 0\n",
    "\n",
    "    def get_descriptive_name(self):\n",
    "        \"\"\"返回规范格式的描述性信息\"\"\"\n",
    "        long_name = f\"{self.year} {self.make} {self.model}\"\n",
    "        return long_name.title()\n",
    "\n",
    "    def read_odometer(self):\n",
    "        \"\"\"打印一条指出汽车行驶里程的信息\"\"\"\n",
    "        print(f\"This car has {self.odometer_reading} miles on it.\")\n",
    "        \n",
    "    def update_odometer(self,mileage):\n",
    "        \"\"\"将里程表读数设置为指定的值\"\"\"\n",
    "        self.odometer_reading = mileage\n",
    "\n",
    "my_new_car = Car('audi', 'a4', 2024)\n",
    "print(my_new_car.get_descriptive_name())\n",
    "\n",
    "my_new_car.update_odometer(23)\n",
    "my_new_car.read_odometer()"
   ]
  },
  {
   "cell_type": "markdown",
   "id": "3d435bae",
   "metadata": {},
   "source": [
    "# 03 对方法update_odometer() 进行扩展"
   ]
  },
  {
   "cell_type": "code",
   "execution_count": 12,
   "id": "4d24c5d6",
   "metadata": {},
   "outputs": [
    {
     "name": "stdout",
     "output_type": "stream",
     "text": [
      "2019 Audi A4\n",
      "You can't roll back an odometer!\n",
      "This car has 30 miles on it.\n"
     ]
    }
   ],
   "source": [
    "class Car:  \n",
    "    \"\"\"一次模拟汽车的简单尝试。\"\"\"\n",
    "    def __init__(self, make, model, year):\n",
    "        \"\"\"初始化描述汽车的属性。\"\"\"\n",
    "        self.make = make\n",
    "        self.model = model\n",
    "        self.year = year\n",
    "        self.odometer_reading = 30\n",
    "\n",
    "    def get_descriptive_name(self):\n",
    "        \"\"\"返回整洁的描述性信息。\"\"\"\n",
    "        long_name = f\"{self.year} {self.make} {self.model}\"\n",
    "        return long_name.title()\n",
    "        \n",
    "    def read_odometer(self):\n",
    "        \"\"\"打印一条指出汽车里程的消息。\"\"\"\n",
    "        print(f\"This car has {self.odometer_reading} miles on it.\")\n",
    "\n",
    "    def update_odometer(self, mileage):\n",
    "        \"\"\"\n",
    "        将里程表读数设置为指定的值。\n",
    "        禁止将里程表读数往回调。\n",
    "        \"\"\"\n",
    "        if mileage >= self.odometer_reading:\n",
    "            self.odometer_reading = mileage\n",
    "        else:\n",
    "            print(\"You can't roll back an odometer!\")\n",
    "\n",
    "my_new_car = Car('audi', 'a4', 2019)\n",
    "print(my_new_car.get_descriptive_name())\n",
    "\n",
    "my_new_car.update_odometer(23)\n",
    "my_new_car.read_odometer()"
   ]
  },
  {
   "cell_type": "markdown",
   "id": "d87de84f",
   "metadata": {},
   "source": [
    "# 03 通过方法对属性的值进行递增"
   ]
  },
  {
   "cell_type": "code",
   "execution_count": 13,
   "id": "7c843429",
   "metadata": {},
   "outputs": [
    {
     "name": "stdout",
     "output_type": "stream",
     "text": [
      "2015 Subaru Outback\n",
      "This car has 23500 miles on it.\n",
      "This car has 23600 miles on it.\n"
     ]
    }
   ],
   "source": [
    "class Car:  \n",
    "    \"\"\"一次模拟汽车的简单尝试。\"\"\"\n",
    "    def __init__(self, make, model, year):\n",
    "        \"\"\"初始化描述汽车的属性。\"\"\"\n",
    "        self.make = make\n",
    "        self.model = model\n",
    "        self.year = year\n",
    "        self.odometer_reading = 0\n",
    "\n",
    "    def get_descriptive_name(self):\n",
    "        \"\"\"返回整洁的描述性信息。\"\"\"\n",
    "        long_name = f\"{self.year} {self.make} {self.model}\"\n",
    "        return long_name.title()\n",
    "        \n",
    "    def read_odometer(self):\n",
    "        \"\"\"打印一条指出汽车里程的消息。\"\"\"\n",
    "        print(f\"This car has {self.odometer_reading} miles on it.\")\n",
    "\n",
    "    def update_odometer(self, mileage):\n",
    "        \"\"\"\n",
    "        将里程表读数设置为指定的值。\n",
    "        禁止将里程表读数往回调。\n",
    "        \"\"\"\n",
    "        if mileage >= self.odometer_reading:\n",
    "            self.odometer_reading = mileage\n",
    "        else:\n",
    "            print(\"You can't roll back an odometer!\")\n",
    "\n",
    "    def increment_odometer(self, miles):\n",
    "        \"\"\"将里程表读数增加指定的量。\"\"\"\n",
    "        self.odometer_reading += miles\n",
    "        \n",
    "my_used_car = Car('subaru', 'outback', 2015)\n",
    "print(my_used_car.get_descriptive_name())\n",
    "\n",
    "my_used_car.update_odometer(23_500)\n",
    "my_used_car.read_odometer()\n",
    "\n",
    "my_used_car.increment_odometer(100)\n",
    "my_used_car.read_odometer()"
   ]
  },
  {
   "cell_type": "markdown",
   "id": "3d201fa5",
   "metadata": {},
   "source": [
    "# 试一试"
   ]
  },
  {
   "cell_type": "code",
   "execution_count": 14,
   "id": "73713387",
   "metadata": {},
   "outputs": [
    {
     "name": "stdout",
     "output_type": "stream",
     "text": [
      "The number of people eating here is 0.\n"
     ]
    }
   ],
   "source": [
    "class Restaurant:\n",
    "    \"\"\"模拟餐馆\"\"\"\n",
    "    def __init__(self,restaurant_name,cuisine_type):\n",
    "        \"\"\"初始化描述餐馆的属性\"\"\"\n",
    "        self.restaurant_name=restaurant_name\n",
    "        self.cuisine_type=cuisine_type\n",
    "        self.number_served=0\n",
    "\n",
    "    def read_number_served(self):\n",
    "        \"\"\"打印就餐人数\"\"\"\n",
    "        print(f\"The number of people eating here is {self.number_served}.\")\n",
    "        \n",
    "restaurant=Restaurant('meimei','pizza')\n",
    "restaurant.read_number_served()"
   ]
  },
  {
   "cell_type": "code",
   "execution_count": 15,
   "id": "c80aed1a",
   "metadata": {},
   "outputs": [
    {
     "name": "stdout",
     "output_type": "stream",
     "text": [
      "The number of people eating here is 80.\n"
     ]
    }
   ],
   "source": [
    "class Restaurant:\n",
    "    \"\"\"模拟餐馆\"\"\"\n",
    "    def __init__(self,restaurant_name,cuisine_type):\n",
    "        \"\"\"初始化描述餐馆的属性\"\"\"\n",
    "        self.restaurant_name=restaurant_name\n",
    "        self.cuisine_type=cuisine_type\n",
    "        self.number_served=0\n",
    "        \n",
    "    def set_number_served(self,number):\n",
    "        \"\"\"设置就餐人数\"\"\"\n",
    "        self.number_served=number\n",
    "\n",
    "    def read_number_served(self):\n",
    "        \"\"\"打印就餐人数\"\"\"\n",
    "        print(f\"The number of people eating here is {self.number_served}.\")\n",
    "    \n",
    "restaurant=Restaurant('meimei','pizza')\n",
    "restaurant.set_number_served(80)\n",
    "restaurant.read_number_served()"
   ]
  },
  {
   "cell_type": "code",
   "execution_count": 16,
   "id": "a4d172c6",
   "metadata": {},
   "outputs": [
    {
     "name": "stdout",
     "output_type": "stream",
     "text": [
      "The number of people eating here is 130.\n"
     ]
    }
   ],
   "source": [
    "class Restaurant:\n",
    "    \"\"\"模拟餐馆\"\"\"\n",
    "    def __init__(self,restaurant_name,cuisine_type):\n",
    "        \"\"\"初始化描述餐馆的属性\"\"\"\n",
    "        self.restaurant_name=restaurant_name\n",
    "        self.cuisine_type=cuisine_type\n",
    "        self.number_served=0\n",
    "        \n",
    "    def set_number_served(self,number):\n",
    "        \"\"\"设置就餐人数\"\"\"\n",
    "        self.number_served=number\n",
    "\n",
    "    def read_number_served(self):\n",
    "        \"\"\"打印就餐人数\"\"\"\n",
    "        print(f\"The number of people eating here is {self.number_served}.\")\n",
    "\n",
    "    def increment_number_served(self,increase):\n",
    "        \"\"\"将就餐人数递增\"\"\"\n",
    "        self.number_served+=increase\n",
    "    \n",
    "restaurant=Restaurant('meimei','pizza')\n",
    "restaurant.set_number_served(80)\n",
    "restaurant.increment_number_served(50)\n",
    "restaurant.read_number_served()"
   ]
  },
  {
   "cell_type": "markdown",
   "id": "61657879",
   "metadata": {},
   "source": [
    "# 9.3 继承"
   ]
  },
  {
   "cell_type": "markdown",
   "id": "81e254ca",
   "metadata": {},
   "source": [
    "# 9.3.1 子类的_init_()方法"
   ]
  },
  {
   "cell_type": "code",
   "execution_count": 17,
   "id": "03eabf7f",
   "metadata": {},
   "outputs": [
    {
     "name": "stdout",
     "output_type": "stream",
     "text": [
      "2019 Tesla Model S\n"
     ]
    }
   ],
   "source": [
    "class Car:  \n",
    "    \"\"\"一次模拟汽车的简单尝试。\"\"\"\n",
    "    def __init__(self, make, model, year):\n",
    "        \"\"\"初始化描述汽车的属性。\"\"\"\n",
    "        self.make = make\n",
    "        self.model = model\n",
    "        self.year = year\n",
    "        self.odometer_reading = 0\n",
    "\n",
    "    def get_descriptive_name(self):\n",
    "        \"\"\"返回整洁的描述性信息。\"\"\"\n",
    "        long_name = f\"{self.year} {self.make} {self.model}\"\n",
    "        return long_name.title()\n",
    "        \n",
    "    def read_odometer(self):\n",
    "        \"\"\"打印一条指出汽车里程的消息。\"\"\"\n",
    "        print(f\"This car has {self.odometer_reading} miles on it.\")\n",
    "\n",
    "    def update_odometer(self, mileage):\n",
    "        \"\"\"\n",
    "        将里程表读数设置为指定的值。\n",
    "        禁止将里程表读数往回调。\n",
    "        \"\"\"\n",
    "        if mileage >= self.odometer_reading:\n",
    "            self.odometer_reading = mileage\n",
    "        else:\n",
    "            print(\"You can't roll back an odometer!\")\n",
    "\n",
    "    def increment_odometer(self, miles):\n",
    "        \"\"\"将里程表读数增加指定的量。\"\"\"\n",
    "        self.odometer_reading += miles\n",
    "\n",
    "class ElectricCar(Car):\n",
    "    \"\"\"电动汽车的独特之处。\"\"\"\n",
    "    def __init__(self, make, model, year):\n",
    "        \"\"\"初始化父类的属性。\"\"\"\n",
    "        super().__init__(make, model, year)\n",
    "        \n",
    "my_tesla = ElectricCar('tesla', 'model s', 2019)\n",
    "print(my_tesla.get_descriptive_name())"
   ]
  },
  {
   "cell_type": "markdown",
   "id": "90e86bab",
   "metadata": {},
   "source": [
    "# 9.3.2 给子类定义属性和方法"
   ]
  },
  {
   "cell_type": "code",
   "execution_count": 19,
   "id": "183c27b1",
   "metadata": {},
   "outputs": [
    {
     "name": "stdout",
     "output_type": "stream",
     "text": [
      "2019 Tesla Model S\n",
      "This car has a 75-kWh battery.\n"
     ]
    }
   ],
   "source": [
    "class Car:  \n",
    "    \"\"\"一次模拟汽车的简单尝试。\"\"\"\n",
    "    def __init__(self, make, model, year):\n",
    "        \"\"\"初始化描述汽车的属性。\"\"\"\n",
    "        self.make = make\n",
    "        self.model = model\n",
    "        self.year = year\n",
    "        self.odometer_reading = 0\n",
    "\n",
    "    def get_descriptive_name(self):\n",
    "        \"\"\"返回整洁的描述性信息。\"\"\"\n",
    "        long_name = f\"{self.year} {self.make} {self.model}\"\n",
    "        return long_name.title()\n",
    "        \n",
    "    def read_odometer(self):\n",
    "        \"\"\"打印一条指出汽车里程的消息。\"\"\"\n",
    "        print(f\"This car has {self.odometer_reading} miles on it.\")\n",
    "\n",
    "    def update_odometer(self, mileage):\n",
    "        \"\"\"\n",
    "        将里程表读数设置为指定的值。\n",
    "        禁止将里程表读数往回调。\n",
    "        \"\"\"\n",
    "        if mileage >= self.odometer_reading:\n",
    "            self.odometer_reading = mileage\n",
    "        else:\n",
    "            print(\"You can't roll back an odometer!\")\n",
    "\n",
    "    def increment_odometer(self, miles):\n",
    "        \"\"\"将里程表读数增加指定的量。\"\"\"\n",
    "        self.odometer_reading += miles\n",
    "        \n",
    "class ElectricCar(Car):\n",
    "    \"\"\"电动汽车的独特之处。\"\"\"\n",
    "    \n",
    "    def __init__(self, make, model, year):\n",
    "        \"\"\"\n",
    "        初始化父类的属性。\n",
    "        再初始化电动汽车特有的属性。\n",
    "        \"\"\"\n",
    "        super().__init__(make, model, year)\n",
    "        self.battery_size = 75\n",
    "        \n",
    "    def describe_battery(self):\n",
    "        \"\"\"打印一条描述电瓶容量的消息。\"\"\"\n",
    "        print(f\"This car has a {self.battery_size}-kWh battery.\")\n",
    "\n",
    "my_tesla = ElectricCar('tesla', 'model s', 2019)\n",
    "print(my_tesla.get_descriptive_name())\n",
    "my_tesla.describe_battery()"
   ]
  },
  {
   "cell_type": "markdown",
   "id": "f673a8f8",
   "metadata": {},
   "source": [
    "# 9.3.3 重写父类的方法"
   ]
  },
  {
   "cell_type": "code",
   "execution_count": 26,
   "id": "13fa9edc",
   "metadata": {},
   "outputs": [],
   "source": [
    "class ElectricCar(Car):\n",
    "    \"\"\"电动汽车的独特之处。\"\"\"\n",
    "    \n",
    "    def __init__(self, make, model, year):\n",
    "        \"\"\"\n",
    "        初始化父类的属性。\n",
    "        再初始化电动汽车特有的属性。\n",
    "        \"\"\"\n",
    "        super().__init__(make, model, year)\n",
    "        self.battery_size = 75\n",
    "        \n",
    "    def describe_battery(self):\n",
    "        \"\"\"打印一条描述电瓶容量的消息。\"\"\"\n",
    "        print(f\"This car has a {self.battery_size}-kWh battery.\")\n",
    "        \n",
    "    def fill_gas_tank(self):\n",
    "        \"\"\"电动汽车没有油箱。\"\"\"\n",
    "        print(\"This car doesn't need a gas tank!\")\n"
   ]
  },
  {
   "cell_type": "markdown",
   "id": "24c6ce0c",
   "metadata": {},
   "source": [
    "# 9.3.4 将实例用作属性"
   ]
  },
  {
   "cell_type": "code",
   "execution_count": 25,
   "id": "605879eb",
   "metadata": {},
   "outputs": [
    {
     "name": "stdout",
     "output_type": "stream",
     "text": [
      "2029 Akf Fff\n",
      "This car has a 40-kWh battery.\n"
     ]
    }
   ],
   "source": [
    "class Car:  \n",
    "    \"\"\"一次模拟汽车的简单尝试。\"\"\"\n",
    "    def __init__(self, make, model, year):\n",
    "        \"\"\"初始化描述汽车的属性。\"\"\"\n",
    "        self.make = make\n",
    "        self.model = model\n",
    "        self.year = year\n",
    "        self.odometer_reading = 0\n",
    "\n",
    "    def get_descriptive_name(self):\n",
    "        \"\"\"返回整洁的描述性信息。\"\"\"\n",
    "        long_name = f\"{self.year} {self.make} {self.model}\"\n",
    "        return long_name.title()\n",
    "        \n",
    "    def read_odometer(self):\n",
    "        \"\"\"打印一条指出汽车里程的消息。\"\"\"\n",
    "        print(f\"This car has {self.odometer_reading} miles on it.\")\n",
    "\n",
    "    def update_odometer(self, mileage):\n",
    "        \"\"\"\n",
    "        将里程表读数设置为指定的值。\n",
    "        禁止将里程表读数往回调。\n",
    "        \"\"\"\n",
    "        if mileage >= self.odometer_reading:\n",
    "            self.odometer_reading = mileage\n",
    "        else:\n",
    "            print(\"You can't roll back an odometer!\")\n",
    "\n",
    "    def increment_odometer(self, miles):\n",
    "        \"\"\"将里程表读数增加指定的量。\"\"\"\n",
    "        self.odometer_reading += miles\n",
    "\n",
    "\n",
    "class Battery:\n",
    "    \"\"\"一次模拟电动汽车电瓶的简单尝试。\"\"\"\n",
    "    def __init__(self, battery_size=40):  \n",
    "        \"\"\"初始化电瓶的属性。\"\"\"\n",
    "        self.battery_size = battery_size\n",
    "        \n",
    "    def describe_battery(self):\n",
    "        \"\"\"打印一条描述电瓶容量的消息。\"\"\"\n",
    "        print(f\"This car has a {self.battery_size}-kWh battery.\")\n",
    "\n",
    "\n",
    "class ElectricCar(Car):\n",
    "    \"\"\"电动汽车的独特之处。\"\"\"\n",
    "    def __init__(self, make, model, year):\n",
    "        super().__init__(make, model, year)\n",
    "        self.battery = Battery()\n",
    "\n",
    "my_akf = ElectricCar('akf', 'fff', 2029)\n",
    "print(my_akf.get_descriptive_name())\n",
    "my_akf.battery.describe_battery()\n"
   ]
  },
  {
   "cell_type": "markdown",
   "id": "7c52c3ed",
   "metadata": {},
   "source": [
    "# 试一试"
   ]
  },
  {
   "cell_type": "code",
   "execution_count": 27,
   "id": "5a63f7c9",
   "metadata": {},
   "outputs": [
    {
     "name": "stdout",
     "output_type": "stream",
     "text": [
      "The flavors available are:\n",
      "-c\n",
      "-d\n"
     ]
    }
   ],
   "source": [
    "class Restaurant:\n",
    "    \"\"\"模拟餐馆\"\"\"\n",
    "    def __init__(self,restaurant_name,cuisine_type):\n",
    "        \"\"\"初始化描述餐馆的属性\"\"\"\n",
    "        self.restaurant_name=restaurant_name\n",
    "        self.cuisine_type=cuisine_type\n",
    "        self.number_served=0\n",
    "\n",
    "    def read_number_served(self):\n",
    "        \"\"\"打印就餐人数\"\"\"\n",
    "        print(f\"The number of people eating here is {self.number_served}.\")\n",
    "\n",
    "\n",
    "class IceCreamStand(Restaurant):\n",
    "    \"\"\"冰淇凌小店的独特之处\"\"\"\n",
    "    def __init__(self, restaurant_name,cuisine_type,flavors):\n",
    "        super().__init__(restaurant_name,cuisine_type)\n",
    "        self.flavors=flavors\n",
    "\n",
    "    def icecream_kinds(self):\n",
    "        \"\"\"显示冰淇淋种类\"\"\"\n",
    "        print(f\"The flavors available are:\")\n",
    "        for flavor in self.flavors:\n",
    "            print(f\"-{flavor}\")\n",
    "\n",
    "shop=IceCreamStand('a','b',['c','d'])\n",
    "shop.icecream_kinds()"
   ]
  },
  {
   "cell_type": "code",
   "execution_count": 34,
   "id": "6a09eecb",
   "metadata": {},
   "outputs": [
    {
     "name": "stdout",
     "output_type": "stream",
     "text": [
      "The privileges of the administrator are:\n",
      "- can add post\n",
      "- can delete post\n"
     ]
    }
   ],
   "source": [
    "class User:\n",
    "    \"\"\"模拟用户信息\"\"\"\n",
    "    def __init__(self, first_name, last_name, gender):\n",
    "        \"\"\"初始化描述用户信息\"\"\"\n",
    "        self.first_name = first_name\n",
    "        self.last_name = last_name\n",
    "        self.gender = gender\n",
    "        self.login_attempts = 0\n",
    "\n",
    "    def increment_login_attempts(self):\n",
    "        \"\"\"增加登录次数\"\"\"\n",
    "        self.login_attempts += 1\n",
    "\n",
    "class Admin(User):\n",
    "    \"\"\"管理员的特殊之处\"\"\"\n",
    "    def __init__(self, first_name, last_name, gender, privileges):\n",
    "        super().__init__(first_name, last_name, gender)\n",
    "        self.privileges = privileges\n",
    "\n",
    "    def show_privileges(self):\n",
    "        \"\"\"显示admin权限\"\"\"\n",
    "        print(f\"The privileges of the administrator are:\")\n",
    "        for privilege in self.privileges:\n",
    "            print(f\"- {privilege}\")\n",
    "\n",
    "# 创建一个管理员实例，传递正确的参数\n",
    "admin = Admin('Alice', 'Smith', 'Female', [\"can add post\", \"can delete post\"])\n",
    "admin.show_privileges()"
   ]
  },
  {
   "cell_type": "code",
   "execution_count": 35,
   "id": "ef60e6e1",
   "metadata": {},
   "outputs": [
    {
     "name": "stdout",
     "output_type": "stream",
     "text": [
      "The exclusive privileges of the administrator include:\n",
      "- add posts\n",
      "- remove posts\n",
      "- suspend accounts\n"
     ]
    }
   ],
   "source": [
    "class User:\n",
    "    \"\"\"模拟用户信息\"\"\"\n",
    "    def __init__(self, first_name, last_name, gender):\n",
    "        \"\"\"初始化描述用户信息\"\"\"\n",
    "        self.first_name = first_name\n",
    "        self.last_name = last_name\n",
    "        self.gender = gender\n",
    "        self.login_attempts = 0\n",
    "\n",
    "    def increment_login_attempts(self):\n",
    "        \"\"\"增加登录次数\"\"\"\n",
    "        self.login_attempts += 1\n",
    "\n",
    "\n",
    "class Privileges:\n",
    "    \"\"\"模拟管理员的权限\"\"\"\n",
    "    def __init__(self, privileges):\n",
    "        \"\"\"初始化管理员权限\"\"\"\n",
    "        self.privileges = privileges\n",
    "\n",
    "    def show_privileges(self):\n",
    "        \"\"\"显示权限\"\"\"\n",
    "        print(\"The exclusive privileges of the administrator include:\")\n",
    "        for privilege in self.privileges:\n",
    "            print(f\"- {privilege}\")\n",
    "\n",
    "\n",
    "class Admin(User):\n",
    "    \"\"\"管理员的特殊之处\"\"\"\n",
    "    def __init__(self, first_name, last_name, gender, privileges):\n",
    "        \"\"\"\n",
    "        初始化父类的属性。\n",
    "        再初始化子类特有的属性。\n",
    "        \"\"\"\n",
    "        super().__init__(first_name, last_name, gender)\n",
    "        self.privileges = Privileges(privileges)\n",
    "\n",
    "\n",
    "# 创建一个管理员实例，并传递相应的参数\n",
    "admin = Admin('Alice', 'Smith', 'Female', [\"add posts\", \"remove posts\", \"suspend accounts\"])\n",
    "admin.privileges.show_privileges()\n",
    "\n"
   ]
  },
  {
   "cell_type": "code",
   "execution_count": 36,
   "id": "a55f9172",
   "metadata": {},
   "outputs": [
    {
     "name": "stdout",
     "output_type": "stream",
     "text": [
      "This car can go about 260 miles on a full charge.\n",
      "\n",
      "The battery has been upgraded to 100 kWh.\n",
      "This car can go about 300 miles on a full charge.\n"
     ]
    }
   ],
   "source": [
    "class Car:  \n",
    "    \"\"\"一次模拟汽车的简单尝试。\"\"\"\n",
    "    def __init__(self, make, model, year):\n",
    "        \"\"\"初始化描述汽车的属性。\"\"\"\n",
    "        self.make = make\n",
    "        self.model = model\n",
    "        self.year = year\n",
    "        self.odometer_reading = 0\n",
    "\n",
    "    def get_descriptive_name(self):\n",
    "        \"\"\"返回整洁的描述性信息。\"\"\"\n",
    "        long_name = f\"{self.year} {self.make} {self.model}\"\n",
    "        return long_name.title()\n",
    "\n",
    "\n",
    "class Battery:\n",
    "    \"\"\"一次模拟电动汽车电瓶的简单尝试。\"\"\"\n",
    "    def __init__(self, battery_size=65):  \n",
    "        \"\"\"初始化电瓶的属性。\"\"\"\n",
    "        self.battery_size = battery_size\n",
    "        \n",
    "    def describe_battery(self):\n",
    "        \"\"\"打印一条描述电瓶容量的消息。\"\"\"\n",
    "        print(f\"This car has a {self.battery_size}-kWh battery.\")\n",
    "\n",
    "    def get_range(self):\n",
    "        \"\"\"打印一条消息，指出电瓶的续航里程。\"\"\"\n",
    "        if self.battery_size == 65:\n",
    "            range = 260\n",
    "        elif self.battery_size == 100:\n",
    "            range = 300\n",
    "        print(f\"This car can go about {range} miles on a full charge.\")\n",
    "\n",
    "    def upgrade_battery(self):\n",
    "        \"\"\"升级电瓶容量\"\"\"\n",
    "        if self.battery_size != 100:\n",
    "            self.battery_size = 100\n",
    "            print(\"\\nThe battery has been upgraded to 100 kWh.\")\n",
    "\n",
    "\n",
    "class ElectricCar(Car):\n",
    "    \"\"\"电动汽车的独特之处。\"\"\"\n",
    "    def __init__(self, make, model, year):\n",
    "        \"\"\"\n",
    "        初始化父类的属性。\n",
    "        再初始化电动汽车特有的属性。\n",
    "        \"\"\"\n",
    "        super().__init__(make, model, year)\n",
    "        self.battery = Battery() \n",
    "\n",
    "# 创建一个电动汽车实例\n",
    "my_akf = ElectricCar('akf', 'model s', 2029)\n",
    "# 获取电瓶续航里程\n",
    "my_akf.battery.get_range()\n",
    "# 升级电瓶\n",
    "my_akf.battery.upgrade_battery()\n",
    "# 再次获取电瓶续航里程\n",
    "my_akf.battery.get_range()\n"
   ]
  },
  {
   "cell_type": "markdown",
   "id": "61e73447",
   "metadata": {},
   "source": [
    "# python标准库试一试"
   ]
  },
  {
   "cell_type": "code",
   "execution_count": 40,
   "id": "a8253fc6",
   "metadata": {},
   "outputs": [
    {
     "name": "stdout",
     "output_type": "stream",
     "text": [
      "2\n",
      "2\n",
      "6\n",
      "1\n",
      "3\n",
      "2\n",
      "1\n",
      "6\n",
      "2\n",
      "4\n",
      "\n",
      "3\n",
      "10\n",
      "5\n",
      "8\n",
      "5\n",
      "5\n",
      "1\n",
      "6\n",
      "3\n",
      "1\n",
      "\n",
      "19\n",
      "7\n",
      "19\n",
      "15\n",
      "8\n",
      "18\n",
      "7\n",
      "9\n",
      "9\n",
      "15\n"
     ]
    }
   ],
   "source": [
    "from random import randint\n",
    "\n",
    "class Die:\n",
    "    \"\"\"模拟掷骰子\"\"\"\n",
    "    def __init__(self,sides=6):\n",
    "        \"\"\"初始化属性\"\"\"\n",
    "        self.sides=sides\n",
    "\n",
    "    def roll_die(self):\n",
    "        \"\"\"掷骰子\"\"\"\n",
    "        result=randint(1,self.sides)\n",
    "        print(result)\n",
    "\n",
    "dice=Die()\n",
    "count = 0\n",
    "while count < 10:\n",
    "    dice.roll_die()  \n",
    "    count += 1\n",
    "\n",
    "#for _ in range(10):\n",
    "#    dice.roll_die()\n",
    "print()\n",
    "dice2=Die(10)\n",
    "count2 = 0\n",
    "while count2 < 10:\n",
    "    dice2.roll_die()  \n",
    "    count2 += 1\n",
    "    \n",
    "print()\n",
    "dice3=Die(20)\n",
    "count3 = 0\n",
    "while count3 < 10:\n",
    "    dice3.roll_die()  \n",
    "    count3 += 1"
   ]
  },
  {
   "cell_type": "code",
   "execution_count": 41,
   "id": "a1400138",
   "metadata": {},
   "outputs": [
    {
     "name": "stdout",
     "output_type": "stream",
     "text": [
      "You win the prize when the result is:\n",
      "\tr\n",
      "\t3\n",
      "\te\n",
      "\tt\n"
     ]
    }
   ],
   "source": [
    "from random import choice\n",
    "\n",
    "lucky=[]\n",
    "msgs=('1','2','3','4','5','6','7','8','9','10','q','w','e','r','t')\n",
    "count=0\n",
    "while count < 4:\n",
    "    pick=choice(msgs)\n",
    "    lucky.append(pick)\n",
    "    count +=1\n",
    "\n",
    "#lucky = random.sample(msgs, 4)\n",
    "\n",
    "print(\"You win the prize when the result is:\")\n",
    "for luck in lucky:\n",
    "    print(f\"\\t{luck}\")"
   ]
  },
  {
   "cell_type": "code",
   "execution_count": 42,
   "id": "b98ea5b7",
   "metadata": {},
   "outputs": [
    {
     "name": "stdout",
     "output_type": "stream",
     "text": [
      "857 次才中了奖。\n"
     ]
    }
   ],
   "source": [
    "import random\n",
    "\n",
    "lottery_numbers = ('1','2','3','4','5','6','7','8','9','10','q','w','e','r','t')\n",
    "winning_combination = ['2','6','10','t']\n",
    "\n",
    "my_ticket = random.sample(lottery_numbers, 4)\n",
    "\n",
    "def check_lottery(ticket):\n",
    "    for item in winning_combination:\n",
    "        if item not in ticket:\n",
    "            return False\n",
    "    return True\n",
    "\n",
    "num_attempts = 0\n",
    "while True:\n",
    "    num_attempts += 1\n",
    "    random_ticket = random.sample(lottery_numbers, 4)\n",
    "    if check_lottery(random_ticket):\n",
    "        break\n",
    "\n",
    "print(num_attempts, \"次才中了奖。\")"
   ]
  },
  {
   "cell_type": "code",
   "execution_count": null,
   "id": "1a7badd6",
   "metadata": {},
   "outputs": [],
   "source": []
  }
 ],
 "metadata": {
  "kernelspec": {
   "display_name": "Python 3 (ipykernel)",
   "language": "python",
   "name": "python3"
  },
  "language_info": {
   "codemirror_mode": {
    "name": "ipython",
    "version": 3
   },
   "file_extension": ".py",
   "mimetype": "text/x-python",
   "name": "python",
   "nbconvert_exporter": "python",
   "pygments_lexer": "ipython3",
   "version": "3.11.5"
  }
 },
 "nbformat": 4,
 "nbformat_minor": 5
}
